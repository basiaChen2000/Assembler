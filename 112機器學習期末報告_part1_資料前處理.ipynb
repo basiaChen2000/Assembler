{
  "nbformat": 4,
  "nbformat_minor": 0,
  "metadata": {
    "colab": {
      "provenance": [],
      "authorship_tag": "ABX9TyMS04/kRnVTvj7Uh6m2dQ6N",
      "include_colab_link": true
    },
    "kernelspec": {
      "name": "python3",
      "display_name": "Python 3"
    },
    "language_info": {
      "name": "python"
    }
  },
  "cells": [
    {
      "cell_type": "markdown",
      "metadata": {
        "id": "view-in-github",
        "colab_type": "text"
      },
      "source": [
        "<a href=\"https://colab.research.google.com/github/basiaChen2000/Assembler/blob/main/112%E6%A9%9F%E5%99%A8%E5%AD%B8%E7%BF%92%E6%9C%9F%E6%9C%AB%E5%A0%B1%E5%91%8A_part1_%E8%B3%87%E6%96%99%E5%89%8D%E8%99%95%E7%90%86.ipynb\" target=\"_parent\"><img src=\"https://colab.research.google.com/assets/colab-badge.svg\" alt=\"Open In Colab\"/></a>"
      ]
    },
    {
      "cell_type": "code",
      "execution_count": null,
      "metadata": {
        "id": "cZWpEwZq9aCO"
      },
      "outputs": [],
      "source": [
        "# 112機器學習期末報告_part1_資料前處理\n",
        "# 2023/12/15\n",
        "# 7111029062 陳思蓓"
      ]
    },
    {
      "cell_type": "markdown",
      "source": [
        "- 資料前處理讀取檔案 BankChurners.csv\n",
        "- 處理後匯出檔案 processed_data.csv"
      ],
      "metadata": {
        "id": "eobjJ13SnSmh"
      }
    },
    {
      "cell_type": "code",
      "source": [
        "import pandas as pd\n",
        "data = pd.read_csv('BankChurners.csv', delimiter=\",\", header='infer')"
      ],
      "metadata": {
        "id": "7abRKEpU9h3o"
      },
      "execution_count": null,
      "outputs": []
    },
    {
      "cell_type": "markdown",
      "source": [
        "### 1. 刪除ID欄位"
      ],
      "metadata": {
        "id": "32Vp2soHoEFx"
      }
    },
    {
      "cell_type": "code",
      "source": [
        "# 刪除 CLIENTNUM 特徵\n",
        "data.drop('CLIENTNUM', axis=1, inplace=True)"
      ],
      "metadata": {
        "id": "zs_Z_kYqoBY_"
      },
      "execution_count": null,
      "outputs": []
    },
    {
      "cell_type": "markdown",
      "source": [
        "### 2. 確認資料集中沒有missing value\n"
      ],
      "metadata": {
        "id": "zwrXr_2prJDF"
      }
    },
    {
      "cell_type": "code",
      "source": [
        "data.info()"
      ],
      "metadata": {
        "colab": {
          "base_uri": "https://localhost:8080/"
        },
        "id": "My5Ja8_-9rtp",
        "outputId": "a9215e23-04df-4fa2-cf8d-3561b6d2e1e9"
      },
      "execution_count": null,
      "outputs": [
        {
          "output_type": "stream",
          "name": "stdout",
          "text": [
            "<class 'pandas.core.frame.DataFrame'>\n",
            "RangeIndex: 10127 entries, 0 to 10126\n",
            "Data columns (total 20 columns):\n",
            " #   Column                    Non-Null Count  Dtype  \n",
            "---  ------                    --------------  -----  \n",
            " 0   Attrition_Flag            10127 non-null  object \n",
            " 1   Customer_Age              10127 non-null  int64  \n",
            " 2   Gender                    10127 non-null  object \n",
            " 3   Dependent_count           10127 non-null  int64  \n",
            " 4   Education_Level           10127 non-null  object \n",
            " 5   Marital_Status            10127 non-null  object \n",
            " 6   Income_Category           10127 non-null  object \n",
            " 7   Card_Category             10127 non-null  object \n",
            " 8   Months_on_book            10127 non-null  int64  \n",
            " 9   Total_Relationship_Count  10127 non-null  int64  \n",
            " 10  Months_Inactive_12_mon    10127 non-null  int64  \n",
            " 11  Contacts_Count_12_mon     10127 non-null  int64  \n",
            " 12  Credit_Limit              10127 non-null  float64\n",
            " 13  Total_Revolving_Bal       10127 non-null  int64  \n",
            " 14  Avg_Open_To_Buy           10127 non-null  float64\n",
            " 15  Total_Amt_Chng_Q4_Q1      10127 non-null  float64\n",
            " 16  Total_Trans_Amt           10127 non-null  int64  \n",
            " 17  Total_Trans_Ct            10127 non-null  int64  \n",
            " 18  Total_Ct_Chng_Q4_Q1       10127 non-null  float64\n",
            " 19  Avg_Utilization_Ratio     10127 non-null  float64\n",
            "dtypes: float64(5), int64(9), object(6)\n",
            "memory usage: 1.5+ MB\n"
          ]
        }
      ]
    },
    {
      "cell_type": "markdown",
      "source": [
        "### 3. 資料正規劃，做 Label Encoder"
      ],
      "metadata": {
        "id": "LrhFD89kq8yT"
      }
    },
    {
      "cell_type": "code",
      "source": [
        "from sklearn.preprocessing import LabelEncoder"
      ],
      "metadata": {
        "id": "XR6Wxl0VJbUN"
      },
      "execution_count": null,
      "outputs": []
    },
    {
      "cell_type": "code",
      "source": [
        "# 定義需要簡化的特徵\n",
        "features_to_simplify = ['Education_Level', 'Marital_Status', 'Card_Category', 'Gender']\n",
        "\n",
        "# 對具特徵進行簡化\n",
        "for feature in features_to_simplify:\n",
        "    label_encoder = LabelEncoder()\n",
        "    data[feature] = label_encoder.fit_transform(data[feature])\n",
        "\n",
        "# 將 Attrition_Flag 改為 0 和 1\n",
        "attrition_mapping = {'Existing Customer': 0, 'Attrited Customer': 1}\n",
        "data['Attrition_Flag'] = data['Attrition_Flag'].map(attrition_mapping)\n",
        "\n",
        "# Income_Category 另外處理（有順序性）\n",
        "income_mapping = {\n",
        "    'Less than $40K': 0,\n",
        "    '$40K - $60K': 1,\n",
        "    '$60K - $80K': 2,\n",
        "    '$80K - $120K': 3,\n",
        "    '$120K +': 4,\n",
        "    'Unknown': 5  # 或者你可以將 Unknown 視為一個單獨的分類\n",
        "}\n",
        "data['Income_Category'] = data['Income_Category'].map(income_mapping)\n",
        "data.info()"
      ],
      "metadata": {
        "id": "DkfpQhVdxpBz",
        "colab": {
          "base_uri": "https://localhost:8080/"
        },
        "outputId": "3d279a47-6375-4848-d90b-6c6bc2be64be"
      },
      "execution_count": null,
      "outputs": [
        {
          "output_type": "stream",
          "name": "stdout",
          "text": [
            "<class 'pandas.core.frame.DataFrame'>\n",
            "RangeIndex: 10127 entries, 0 to 10126\n",
            "Data columns (total 20 columns):\n",
            " #   Column                    Non-Null Count  Dtype  \n",
            "---  ------                    --------------  -----  \n",
            " 0   Attrition_Flag            10127 non-null  int64  \n",
            " 1   Customer_Age              10127 non-null  int64  \n",
            " 2   Gender                    10127 non-null  int64  \n",
            " 3   Dependent_count           10127 non-null  int64  \n",
            " 4   Education_Level           10127 non-null  int64  \n",
            " 5   Marital_Status            10127 non-null  int64  \n",
            " 6   Income_Category           10127 non-null  int64  \n",
            " 7   Card_Category             10127 non-null  int64  \n",
            " 8   Months_on_book            10127 non-null  int64  \n",
            " 9   Total_Relationship_Count  10127 non-null  int64  \n",
            " 10  Months_Inactive_12_mon    10127 non-null  int64  \n",
            " 11  Contacts_Count_12_mon     10127 non-null  int64  \n",
            " 12  Credit_Limit              10127 non-null  float64\n",
            " 13  Total_Revolving_Bal       10127 non-null  int64  \n",
            " 14  Avg_Open_To_Buy           10127 non-null  float64\n",
            " 15  Total_Amt_Chng_Q4_Q1      10127 non-null  float64\n",
            " 16  Total_Trans_Amt           10127 non-null  int64  \n",
            " 17  Total_Trans_Ct            10127 non-null  int64  \n",
            " 18  Total_Ct_Chng_Q4_Q1       10127 non-null  float64\n",
            " 19  Avg_Utilization_Ratio     10127 non-null  float64\n",
            "dtypes: float64(5), int64(15)\n",
            "memory usage: 1.5 MB\n"
          ]
        }
      ]
    },
    {
      "cell_type": "markdown",
      "source": [
        "### 4. 特徵選擇\n",
        "- 4.1 刪除相關程度高的欄位\n",
        "  - Avg_Open_To_Buy 與 Credit_Limit 相關程度是 1\n",
        "  - 刪除 Avg_Open_To_Buy\n",
        "- 4.2 Variance Thresholding\n",
        "- 4.3 PCA"
      ],
      "metadata": {
        "id": "Fy0ggIkGaW3-"
      }
    },
    {
      "cell_type": "code",
      "source": [
        "# # 刪除相關程度高的欄位\n",
        "# import seaborn as sns\n",
        "# import matplotlib.pyplot as plt\n",
        "\n",
        "# # 設定 Seaborn 風格\n",
        "# sns.set(style=\"white\")\n",
        "\n",
        "# # 計算相關性矩陣\n",
        "# correlation_matrix = data.corr()\n",
        "\n",
        "# # 繪製熱圖\n",
        "# plt.figure(figsize=(12, 10))\n",
        "# sns.heatmap(correlation_matrix, annot=True, cmap='coolwarm', fmt=\".2f\", linewidths=.5)\n",
        "# plt.title(\"Correlation Matrix Heatmap\")\n",
        "# plt.show()\n"
      ],
      "metadata": {
        "id": "aZqw0qWPVuKL"
      },
      "execution_count": null,
      "outputs": []
    },
    {
      "cell_type": "code",
      "source": [
        "data.drop('Avg_Open_To_Buy', axis=1, inplace=True)"
      ],
      "metadata": {
        "id": "rbA8tWV2aWYe"
      },
      "execution_count": null,
      "outputs": []
    },
    {
      "cell_type": "markdown",
      "source": [
        "4.2 Variance Thresholding"
      ],
      "metadata": {
        "id": "urQI7lcNc8Tn"
      }
    },
    {
      "cell_type": "code",
      "source": [
        "# # Variance Thresholding\n",
        "# from sklearn.feature_selection import VarianceThreshold\n",
        "\n",
        "# # 創建 VarianceThreshold 實例，指定閾值\n",
        "# threshold = 0.6  # 根據實際情況調整閾值\n",
        "# selector = VarianceThreshold(threshold)\n",
        "\n",
        "# # 將特徵選擇應用到數據\n",
        "# data_selected = selector.fit_transform(data)\n",
        "\n",
        "# # 獲取被選中的特徵索引\n",
        "# selected_features = data.columns[selector.get_support()]\n",
        "\n",
        "# # 將選擇後的數據轉換為數據框\n",
        "# data_selected = pd.DataFrame(data_selected, columns=selected_features)\n",
        "\n",
        "# # 輸出處理後的數據信息\n",
        "# data_selected['Attrition_Flag'] = data['Attrition_Flag']\n",
        "# data = data_selected\n",
        "# data.info()"
      ],
      "metadata": {
        "id": "YDBd5Svuc7qs"
      },
      "execution_count": null,
      "outputs": []
    },
    {
      "cell_type": "code",
      "source": [
        "# data_selected.info()"
      ],
      "metadata": {
        "id": "y_tsKP9yVn78"
      },
      "execution_count": null,
      "outputs": []
    },
    {
      "cell_type": "markdown",
      "source": [
        "- 列出分佈"
      ],
      "metadata": {
        "id": "FYnUtCmZxws0"
      }
    },
    {
      "cell_type": "code",
      "source": [
        "# import matplotlib.pyplot as plt\n",
        "# import seaborn as sns\n",
        "\n",
        "# # 繪製每個特徵的直方圖\n",
        "# num_features = len(data.columns)\n",
        "# num_rows = 2\n",
        "# num_cols = (num_features + num_rows - 1) // num_rows\n",
        "\n",
        "# plt.figure(figsize=(16, 8))\n",
        "\n",
        "# for i, feature in enumerate(data.columns):\n",
        "#     plt.subplot(num_rows, num_cols, i + 1)  # 調整子圖的位置\n",
        "#     sns.histplot(data[feature], kde=True, bins=20)\n",
        "#     plt.title(feature)\n",
        "\n",
        "# # 處理多餘的子圖\n",
        "# for j in range(i + 1, num_rows * num_cols):\n",
        "#     plt.delaxes(plt.subplot(num_rows, num_cols, j + 1))\n",
        "\n",
        "# plt.tight_layout()\n",
        "# plt.show()"
      ],
      "metadata": {
        "id": "4RvU1D3HxwAe"
      },
      "execution_count": null,
      "outputs": []
    },
    {
      "cell_type": "markdown",
      "source": [
        "### 5. 處理離群值\n",
        "- 四分位距\n",
        "  - lower_bound = Q1 - 1.5 * IQR\n",
        "  - upper_bound = Q3 + 1.5 * IQR"
      ],
      "metadata": {
        "id": "AAknMPbd7RZr"
      }
    },
    {
      "cell_type": "code",
      "source": [
        "data_remember = data['Attrition_Flag']\n",
        "\n",
        "import numpy as np\n",
        "# 計算每個欄位的四分位數\n",
        "Q1 = data.quantile(0.25)\n",
        "Q3 = data.quantile(0.75)\n",
        "\n",
        "# 計算每個數值型欄位的四分位距\n",
        "IQR = Q3 - Q1\n",
        "\n",
        "# 計算每個數值型欄位的上下限\n",
        "lower_bound = Q1 - 1.5 * IQR\n",
        "upper_bound = Q3 + 1.5 * IQR\n",
        "\n",
        "\n",
        "numeric_columns = data.select_dtypes(include=np.number).columns\n",
        "\n",
        "# 迴圈遍歷每個數值型欄位，替換離群值\n",
        "for col in numeric_columns:\n",
        "    data[col] = data[col].clip(lower=lower_bound[col], upper=upper_bound[col])\n",
        "\n",
        "data['Attrition_Flag'] = data_remember\n",
        "print(\"DataFrame without Outliers:\")\n",
        "print(data)"
      ],
      "metadata": {
        "id": "c0RlhIN57Qfo",
        "colab": {
          "base_uri": "https://localhost:8080/"
        },
        "outputId": "ae397594-ec23-4447-c667-f56b69a7c4a8"
      },
      "execution_count": null,
      "outputs": [
        {
          "output_type": "stream",
          "name": "stdout",
          "text": [
            "DataFrame without Outliers:\n",
            "       Attrition_Flag  Customer_Age  Gender  Dependent_count  Education_Level  \\\n",
            "0                   0          45.0       1                3                3   \n",
            "1                   0          49.0       0                5                2   \n",
            "2                   0          51.0       1                3                2   \n",
            "3                   0          40.0       0                4                3   \n",
            "4                   0          40.0       1                3                5   \n",
            "...               ...           ...     ...              ...              ...   \n",
            "10122               0          50.0       1                2                2   \n",
            "10123               1          41.0       1                2                6   \n",
            "10124               1          44.0       0                1                3   \n",
            "10125               1          30.0       1                2                2   \n",
            "10126               1          43.0       0                2                2   \n",
            "\n",
            "       Marital_Status  Income_Category  Card_Category  Months_on_book  \\\n",
            "0                   1                2              0            39.0   \n",
            "1                   2                0              0            44.0   \n",
            "2                   1                3              0            36.0   \n",
            "3                   3                0              0            34.0   \n",
            "4                   1                2              0            21.0   \n",
            "...               ...              ...            ...             ...   \n",
            "10122               2                1              0            40.0   \n",
            "10123               0                1              0            25.0   \n",
            "10124               1                0              0            36.0   \n",
            "10125               3                1              0            36.0   \n",
            "10126               1                0              0            25.0   \n",
            "\n",
            "       Total_Relationship_Count  Months_Inactive_12_mon  \\\n",
            "0                             5                     1.0   \n",
            "1                             6                     1.0   \n",
            "2                             4                     1.0   \n",
            "3                             3                     4.0   \n",
            "4                             5                     1.0   \n",
            "...                         ...                     ...   \n",
            "10122                         3                     2.0   \n",
            "10123                         4                     2.0   \n",
            "10124                         5                     3.0   \n",
            "10125                         4                     3.0   \n",
            "10126                         6                     2.0   \n",
            "\n",
            "       Contacts_Count_12_mon  Credit_Limit  Total_Revolving_Bal  \\\n",
            "0                        3.0       12691.0                  777   \n",
            "1                        2.0        8256.0                  864   \n",
            "2                        0.5        3418.0                    0   \n",
            "3                        1.0        3313.0                 2517   \n",
            "4                        0.5        4716.0                    0   \n",
            "...                      ...           ...                  ...   \n",
            "10122                    3.0        4003.0                 1851   \n",
            "10123                    3.0        4277.0                 2186   \n",
            "10124                    4.0        5409.0                    0   \n",
            "10125                    3.0        5281.0                    0   \n",
            "10126                    4.0       10388.0                 1961   \n",
            "\n",
            "       Total_Amt_Chng_Q4_Q1  Total_Trans_Amt  Total_Trans_Ct  \\\n",
            "0                     1.201          1144.00              42   \n",
            "1                     1.201          1291.00              33   \n",
            "2                     1.201          1887.00              20   \n",
            "3                     1.201          1171.00              20   \n",
            "4                     1.201           816.00              28   \n",
            "...                     ...              ...             ...   \n",
            "10122                 0.703          8619.25             117   \n",
            "10123                 0.804          8619.25              69   \n",
            "10124                 0.819          8619.25              60   \n",
            "10125                 0.535          8395.00              62   \n",
            "10126                 0.703          8619.25              61   \n",
            "\n",
            "       Total_Ct_Chng_Q4_Q1  Avg_Utilization_Ratio  \n",
            "0                    1.172                  0.061  \n",
            "1                    1.172                  0.105  \n",
            "2                    1.172                  0.000  \n",
            "3                    1.172                  0.760  \n",
            "4                    1.172                  0.000  \n",
            "...                    ...                    ...  \n",
            "10122                0.857                  0.462  \n",
            "10123                0.683                  0.511  \n",
            "10124                0.818                  0.000  \n",
            "10125                0.722                  0.000  \n",
            "10126                0.649                  0.189  \n",
            "\n",
            "[10127 rows x 19 columns]\n"
          ]
        }
      ]
    },
    {
      "cell_type": "markdown",
      "source": [
        "### 6. 資料標準化，使用Min-Max"
      ],
      "metadata": {
        "id": "TVdeKjT_se-W"
      }
    },
    {
      "cell_type": "code",
      "source": [
        "# 假設 'Attrition_Flag' 是目標變數的列名\n",
        "unique_values = data['Attrition_Flag'].unique()\n",
        "\n",
        "print(\"Unique values in Attrition_Flag:\", unique_values)"
      ],
      "metadata": {
        "colab": {
          "base_uri": "https://localhost:8080/"
        },
        "id": "q5K50B9hH-sT",
        "outputId": "8d1f40b6-ae11-4e5b-d544-54127cc0d6ef"
      },
      "execution_count": null,
      "outputs": [
        {
          "output_type": "stream",
          "name": "stdout",
          "text": [
            "Unique values in Attrition_Flag: [0 1]\n"
          ]
        }
      ]
    },
    {
      "cell_type": "code",
      "source": [
        "from sklearn.preprocessing import MinMaxScaler\n",
        "\n",
        "# 創建一個 MinMaxScaler\n",
        "scaler = MinMaxScaler()\n",
        "\n",
        "# 對整個數據框中的所有數值型特徵進行最小-最大標準化\n",
        "data[data.select_dtypes(include='number').columns] = scaler.fit_transform(data.select_dtypes(include='number'))\n"
      ],
      "metadata": {
        "id": "CUxRPoFhc6-A"
      },
      "execution_count": null,
      "outputs": []
    },
    {
      "cell_type": "markdown",
      "source": [
        "### 6. PCA"
      ],
      "metadata": {
        "id": "27Xl6OaUCDPS"
      }
    },
    {
      "cell_type": "code",
      "source": [
        "# import pandas as pd\n",
        "# from sklearn.decomposition import PCA\n",
        "# from sklearn.preprocessing import StandardScaler\n",
        "\n",
        "# # 假設你的數據已經經過前處理，並存儲在名為 data 的 DataFrame 中\n",
        "\n",
        "# # 指定要排除的欄位\n",
        "# exclude_columns = ['Customer_Age', 'Gender', 'Dependent_count', 'Education_Level', 'Marital_Status',\n",
        "#                    'Income_Category', 'Card_Category']\n",
        "\n",
        "# # 提取需要進行 PCA 的欄位\n",
        "# selected_columns = ['Months_on_book', 'Total_Relationship_Count', 'Months_Inactive_12_mon',\n",
        "#                     'Contacts_Count_12_mon', 'Credit_Limit', 'Total_Revolving_Bal',\n",
        "#                     'Total_Amt_Chng_Q4_Q1', 'Total_Trans_Amt', 'Total_Trans_Ct',\n",
        "#                     'Total_Ct_Chng_Q4_Q1', 'Avg_Utilization_Ratio']\n",
        "\n",
        "# # 提取特徵和目標變數\n",
        "# X = data[selected_columns]\n",
        "# y = data['Attrition_Flag']\n",
        "\n",
        "# # 標準化特徵\n",
        "# scaler = StandardScaler()\n",
        "# X_scaled = scaler.fit_transform(X)\n",
        "\n",
        "# # 創建 PCA 實例\n",
        "# pca = PCA(n_components=5)\n",
        "\n",
        "# # 將數據轉換為主成分\n",
        "# X_pca = pca.fit_transform(X_scaled)\n",
        "\n",
        "# # 將 PCA 轉換後的數據轉換為 DataFrame\n",
        "# columns_pca = [f'PC{i+1}' for i in range(X_pca.shape[1])]\n",
        "# X_pca_df = pd.DataFrame(data=X_pca, columns=columns_pca)\n",
        "\n",
        "# # 將排除的欄位值加回去\n",
        "# for col in exclude_columns:\n",
        "#     X_pca_df[col] = data[col]\n",
        "# X_pca_df['Attrition_Flag'] = y\n",
        "# # 顯示新的 DataFrame 的信息\n",
        "# X_pca_df.info()\n",
        "\n",
        "# data = X_pca_df"
      ],
      "metadata": {
        "id": "qWsGYW698Nfm"
      },
      "execution_count": null,
      "outputs": []
    },
    {
      "cell_type": "code",
      "source": [
        "import pandas as pd\n",
        "from sklearn.decomposition import PCA\n",
        "from sklearn.preprocessing import StandardScaler\n",
        "\n",
        "# 假設你的數據已經經過前處理，並存儲在名為 data 的 DataFrame 中\n",
        "\n",
        "# 提取特徵和目標變數\n",
        "X = data.drop('Attrition_Flag', axis=1)\n",
        "y = data['Attrition_Flag']\n",
        "\n",
        "# 標準化特徵\n",
        "scaler = StandardScaler()\n",
        "X_scaled = scaler.fit_transform(X)\n",
        "\n",
        "# 創建 PCA 實例\n",
        "pca = PCA(n_components= 17)\n",
        "\n",
        "# 將數據轉換為主成分\n",
        "X_pca = pca.fit_transform(X_scaled)\n",
        "\n",
        "# 將 PCA 轉換後的數據轉換為 DataFrame\n",
        "columns_pca = [f'PC{i+1}' for i in range(X_pca.shape[1])]\n",
        "X_pca_df = pd.DataFrame(data=X_pca, columns=columns_pca)\n",
        "\n",
        "# 將目標變數添加回 DataFrame\n",
        "X_pca_df['Attrition_Flag'] = y\n",
        "X_pca_df.info()\n",
        "data = X_pca_df"
      ],
      "metadata": {
        "id": "UCXjwmL-CCvR",
        "colab": {
          "base_uri": "https://localhost:8080/"
        },
        "outputId": "abf0e5ae-e96e-413a-bce3-d51b3f3d0253"
      },
      "execution_count": null,
      "outputs": [
        {
          "output_type": "stream",
          "name": "stdout",
          "text": [
            "<class 'pandas.core.frame.DataFrame'>\n",
            "RangeIndex: 10127 entries, 0 to 10126\n",
            "Data columns (total 18 columns):\n",
            " #   Column          Non-Null Count  Dtype  \n",
            "---  ------          --------------  -----  \n",
            " 0   PC1             10127 non-null  float64\n",
            " 1   PC2             10127 non-null  float64\n",
            " 2   PC3             10127 non-null  float64\n",
            " 3   PC4             10127 non-null  float64\n",
            " 4   PC5             10127 non-null  float64\n",
            " 5   PC6             10127 non-null  float64\n",
            " 6   PC7             10127 non-null  float64\n",
            " 7   PC8             10127 non-null  float64\n",
            " 8   PC9             10127 non-null  float64\n",
            " 9   PC10            10127 non-null  float64\n",
            " 10  PC11            10127 non-null  float64\n",
            " 11  PC12            10127 non-null  float64\n",
            " 12  PC13            10127 non-null  float64\n",
            " 13  PC14            10127 non-null  float64\n",
            " 14  PC15            10127 non-null  float64\n",
            " 15  PC16            10127 non-null  float64\n",
            " 16  PC17            10127 non-null  float64\n",
            " 17  Attrition_Flag  10127 non-null  float64\n",
            "dtypes: float64(18)\n",
            "memory usage: 1.4 MB\n"
          ]
        }
      ]
    },
    {
      "cell_type": "markdown",
      "source": [
        "### 7. SMOTE解決資料不平衡\n",
        "- 對訓練集做"
      ],
      "metadata": {
        "id": "4msGRe4FGa-I"
      }
    },
    {
      "cell_type": "code",
      "source": [
        "# from imblearn.over_sampling import SMOTE\n",
        "# from sklearn.model_selection import train_test_split\n",
        "# import pandas as pd\n",
        "\n",
        "# # 提取特徵和目標變數\n",
        "# X = data.drop('Attrition_Flag', axis=1)\n",
        "# y = data['Attrition_Flag']\n",
        "\n",
        "# # 將數據集分為訓練集和測試集\n",
        "# X_train, X_test, y_train, y_test = train_test_split(X, y, test_size=0.2, random_state=42)\n",
        "\n",
        "# # 使用SMOTE生成合成樣本，以實現2:1的比例\n",
        "# smote = SMOTE(sampling_strategy=0.4, random_state=42)\n",
        "# X_resampled, y_resampled = smote.fit_resample(X_train, y_train)\n",
        "\n",
        "# # 將生成的樣本添加到原始數據中\n",
        "# data_resampled = pd.concat([pd.DataFrame(X_resampled, columns=X.columns),\n",
        "#                             pd.DataFrame(y_resampled, columns=['Attrition_Flag'])], axis=1)\n",
        "\n",
        "# # 顯示生成的樣本數量\n",
        "# print(\"Original class distribution:\", pd.Series(y_train).value_counts())\n",
        "# print(\"Resampled class distribution:\", pd.Series(y_resampled).value_counts())\n",
        "# data = data_resampled"
      ],
      "metadata": {
        "id": "adfC9bjMGZTy"
      },
      "execution_count": null,
      "outputs": []
    },
    {
      "cell_type": "markdown",
      "source": [
        "### 匯出檔案 processed_data.csv"
      ],
      "metadata": {
        "id": "AKZPmOyqwCyf"
      }
    },
    {
      "cell_type": "code",
      "source": [
        "# 存儲編碼後的數據為新檔案\n",
        "data.to_csv('processed_data_pca17.csv', index=False)\n"
      ],
      "metadata": {
        "id": "6JTH8Y9dIXXU"
      },
      "execution_count": null,
      "outputs": []
    },
    {
      "cell_type": "markdown",
      "source": [
        "#### 檢查一下測試與訓練資料 ＾＾b"
      ],
      "metadata": {
        "id": "0hD_BIXB2Y-8"
      }
    },
    {
      "cell_type": "code",
      "source": [
        "from sklearn.model_selection import train_test_split\n",
        "from sklearn.ensemble import RandomForestClassifier\n",
        "from sklearn.metrics import accuracy_score, classification_report\n",
        "\n",
        "# 假設你的特徵和標籤是這樣的\n",
        "X = data.drop('Attrition_Flag', axis=1)\n",
        "y = data['Attrition_Flag']\n",
        "\n",
        "# 分割資料集\n",
        "X_train, X_test, y_train, y_test = train_test_split(X, y, test_size=0.2, random_state=42)"
      ],
      "metadata": {
        "id": "Ogf-DipNd6yL"
      },
      "execution_count": null,
      "outputs": []
    },
    {
      "cell_type": "code",
      "source": [
        "# 計算訓練集中標籤的分佈\n",
        "train_label_distribution = y_train.value_counts(normalize=True)\n",
        "print(\"Training Set Label Distribution:\")\n",
        "print(train_label_distribution)\n",
        "\n",
        "# 計算測試集中標籤的分佈\n",
        "test_label_distribution = y_test.value_counts(normalize=True)\n",
        "print(\"\\nTesting Set Label Distribution:\")\n",
        "print(test_label_distribution)"
      ],
      "metadata": {
        "id": "a7EthMPlyIdT",
        "colab": {
          "base_uri": "https://localhost:8080/"
        },
        "outputId": "e5ada7cb-a155-43a1-fd8f-846d0f6f5f9b"
      },
      "execution_count": null,
      "outputs": [
        {
          "output_type": "stream",
          "name": "stdout",
          "text": [
            "Training Set Label Distribution:\n",
            "0.0    0.839526\n",
            "1.0    0.160474\n",
            "Name: Attrition_Flag, dtype: float64\n",
            "\n",
            "Testing Set Label Distribution:\n",
            "0.0    0.838598\n",
            "1.0    0.161402\n",
            "Name: Attrition_Flag, dtype: float64\n"
          ]
        }
      ]
    },
    {
      "cell_type": "markdown",
      "source": [
        "## 接下來\n",
        "- 112機器學習期末報告_part2_Logistic Regression.ipynb\n",
        "- part 2 : https://colab.research.google.com/drive/1WdrRpgr_f0QCgkFmgY91kSz2LUjYPNzc\n"
      ],
      "metadata": {
        "id": "bzpD3Ih92rjO"
      }
    },
    {
      "cell_type": "markdown",
      "source": [
        "## 其他part\n",
        "\n",
        "- part 2 - Logistic Regression : https://colab.research.google.com/drive/1WdrRpgr_f0QCgkFmgY91kSz2LUjYPNzc\n",
        "- part 3 - Bernoulli Naive Bayes : https://colab.research.google.com/drive/10qsCAieQL3K3DCCCUike05G2tj0qMeH_#scrollTo=62wX6d9tx9Dm\n",
        "- part 4 - Gaussian Naive Bayes: https://colab.research.google.com/drive/1RneJrq6lHWHpoQalw5PqfRJQRATleMKP#scrollTo=GKZ-6UFJzMk2\n",
        "- part 5 - SVM : https://colab.research.google.com/drive/13lZfMt8wvlpBsFScI-UfyCG0kJ_UwUiu#scrollTo=y-AZi4GU4ENY\n",
        "- part 6 - Voting classifier : https://colab.research.google.com/drive/18Lc74nzb74ZVEgIJ2-n-1y4eM4gV2ASl#scrollTo=4ARuZiQ32ypO\n",
        "- part 7 - Bagging classifier : https://colab.research.google.com/drive/1BjH0kDM4h7eAEQzYgJx5I9tf43uJNHAg#scrollTo=JeOMwpIY37XC\n",
        "- other : https://colab.research.google.com/drive/1n_3NtKsvYMpZR_verOCk8kHRaIEzch7g?hl=zh-tw#scrollTo=yDtmaLf_3rP7"
      ],
      "metadata": {
        "id": "6J-GZzrm6id9"
      }
    },
    {
      "cell_type": "markdown",
      "source": [
        "Feature Importance Filter"
      ],
      "metadata": {
        "id": "KW4eFicy8zEg"
      }
    },
    {
      "cell_type": "code",
      "source": [
        "# X=no.fit_transform(boston.data) ##useNormalizer\n",
        "# n Y=boston.target\n",
        "# n fromsklearn.feature_selectionimportSelectKBest,f_regression n kb_regr = SelectKBest(f_regression) ## 預設是選 10 個\n",
        "# n X_b=kb_regr.fit_transform(X,Y)\n",
        "# n X_b.shape\n",
        "# n kb_regr.scores_"
      ],
      "metadata": {
        "id": "xxu1xfjU8p8P"
      },
      "execution_count": null,
      "outputs": []
    }
  ]
}